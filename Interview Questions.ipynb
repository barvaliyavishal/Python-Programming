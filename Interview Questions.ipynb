{
  "nbformat": 4,
  "nbformat_minor": 0,
  "metadata": {
    "colab": {
      "name": "Untitled0.ipynb",
      "provenance": [],
      "authorship_tag": "ABX9TyOts9TriehsO5qndOxDH8IG",
      "include_colab_link": true
    },
    "kernelspec": {
      "name": "python3",
      "display_name": "Python 3"
    },
    "language_info": {
      "name": "python"
    }
  },
  "cells": [
    {
      "cell_type": "markdown",
      "metadata": {
        "id": "view-in-github",
        "colab_type": "text"
      },
      "source": [
        "<a href=\"https://colab.research.google.com/github/barvaliyavishal/Python-Programming/blob/master/Interview%20Questions.ipynb\" target=\"_parent\"><img src=\"https://colab.research.google.com/assets/colab-badge.svg\" alt=\"Open In Colab\"/></a>"
      ]
    },
    {
      "cell_type": "code",
      "metadata": {
        "colab": {
          "base_uri": "https://localhost:8080/"
        },
        "id": "2sTJhCmRdA7i",
        "outputId": "b99daa86-1683-4472-eb82-d5a9c832ed25"
      },
      "source": [
        "start = int(input(\"enter starting range of prime numbers\"))\n",
        "end = int(input(\"Enter the ending point of prime number\"))\n",
        "\n",
        "for i in range(start,end+1):\n",
        "  for j in range(2,i):\n",
        "    if i%j == 0:\n",
        "      print(f\" {i} is not a prime number\")\n",
        "      break\n",
        "  else:\n",
        "    print(f\"{i} is a prime Number\")\n",
        "\n"
      ],
      "execution_count": 21,
      "outputs": [
        {
          "output_type": "stream",
          "text": [
            "enter starting range of prime numbers10\n",
            "Enter the ending point of prime number20\n",
            " 10 is not a prime number\n",
            "11 is a prime Number\n",
            " 12 is not a prime number\n",
            "13 is a prime Number\n",
            " 14 is not a prime number\n",
            " 15 is not a prime number\n",
            " 16 is not a prime number\n",
            "17 is a prime Number\n",
            " 18 is not a prime number\n",
            "19 is a prime Number\n",
            " 20 is not a prime number\n"
          ],
          "name": "stdout"
        }
      ]
    },
    {
      "cell_type": "code",
      "metadata": {
        "colab": {
          "base_uri": "https://localhost:8080/"
        },
        "id": "cEHlm25zfPcj",
        "outputId": "97ee80ae-7419-4a59-a807-6330ee48ab37"
      },
      "source": [
        "for i in range(100,200):\n",
        "  if all(i%j!=0 for j in range(2,i)):\n",
        "    print(f\"{i} is prime\")\n",
        "  else:\n",
        "    print(f\"{i} is not a prime\")"
      ],
      "execution_count": 20,
      "outputs": [
        {
          "output_type": "stream",
          "text": [
            "100 is not a prime\n",
            "101 is prime\n",
            "102 is not a prime\n",
            "103 is prime\n",
            "104 is not a prime\n",
            "105 is not a prime\n",
            "106 is not a prime\n",
            "107 is prime\n",
            "108 is not a prime\n",
            "109 is prime\n",
            "110 is not a prime\n",
            "111 is not a prime\n",
            "112 is not a prime\n",
            "113 is prime\n",
            "114 is not a prime\n",
            "115 is not a prime\n",
            "116 is not a prime\n",
            "117 is not a prime\n",
            "118 is not a prime\n",
            "119 is not a prime\n",
            "120 is not a prime\n",
            "121 is not a prime\n",
            "122 is not a prime\n",
            "123 is not a prime\n",
            "124 is not a prime\n",
            "125 is not a prime\n",
            "126 is not a prime\n",
            "127 is prime\n",
            "128 is not a prime\n",
            "129 is not a prime\n",
            "130 is not a prime\n",
            "131 is prime\n",
            "132 is not a prime\n",
            "133 is not a prime\n",
            "134 is not a prime\n",
            "135 is not a prime\n",
            "136 is not a prime\n",
            "137 is prime\n",
            "138 is not a prime\n",
            "139 is prime\n",
            "140 is not a prime\n",
            "141 is not a prime\n",
            "142 is not a prime\n",
            "143 is not a prime\n",
            "144 is not a prime\n",
            "145 is not a prime\n",
            "146 is not a prime\n",
            "147 is not a prime\n",
            "148 is not a prime\n",
            "149 is prime\n",
            "150 is not a prime\n",
            "151 is prime\n",
            "152 is not a prime\n",
            "153 is not a prime\n",
            "154 is not a prime\n",
            "155 is not a prime\n",
            "156 is not a prime\n",
            "157 is prime\n",
            "158 is not a prime\n",
            "159 is not a prime\n",
            "160 is not a prime\n",
            "161 is not a prime\n",
            "162 is not a prime\n",
            "163 is prime\n",
            "164 is not a prime\n",
            "165 is not a prime\n",
            "166 is not a prime\n",
            "167 is prime\n",
            "168 is not a prime\n",
            "169 is not a prime\n",
            "170 is not a prime\n",
            "171 is not a prime\n",
            "172 is not a prime\n",
            "173 is prime\n",
            "174 is not a prime\n",
            "175 is not a prime\n",
            "176 is not a prime\n",
            "177 is not a prime\n",
            "178 is not a prime\n",
            "179 is prime\n",
            "180 is not a prime\n",
            "181 is prime\n",
            "182 is not a prime\n",
            "183 is not a prime\n",
            "184 is not a prime\n",
            "185 is not a prime\n",
            "186 is not a prime\n",
            "187 is not a prime\n",
            "188 is not a prime\n",
            "189 is not a prime\n",
            "190 is not a prime\n",
            "191 is prime\n",
            "192 is not a prime\n",
            "193 is prime\n",
            "194 is not a prime\n",
            "195 is not a prime\n",
            "196 is not a prime\n",
            "197 is prime\n",
            "198 is not a prime\n",
            "199 is prime\n"
          ],
          "name": "stdout"
        }
      ]
    },
    {
      "cell_type": "code",
      "metadata": {
        "id": "v9q0FA8LhEvT"
      },
      "source": [
        ""
      ],
      "execution_count": null,
      "outputs": []
    }
  ]
}