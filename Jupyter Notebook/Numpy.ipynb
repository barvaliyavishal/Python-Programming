{
 "cells": [
  {
   "cell_type": "markdown",
   "id": "eeedc397",
   "metadata": {},
   "source": [
    "# Initialize array in Numpy"
   ]
  },
  {
   "cell_type": "code",
   "execution_count": 12,
   "id": "c12e6e69",
   "metadata": {},
   "outputs": [],
   "source": [
    "import numpy as np"
   ]
  },
  {
   "cell_type": "code",
   "execution_count": 13,
   "id": "c460f058",
   "metadata": {},
   "outputs": [],
   "source": [
    "n1 = np.array([1,2,3,4,5])"
   ]
  },
  {
   "cell_type": "code",
   "execution_count": 14,
   "id": "b76935be",
   "metadata": {},
   "outputs": [
    {
     "data": {
      "text/plain": [
       "array([1, 2, 3, 4, 5])"
      ]
     },
     "execution_count": 14,
     "metadata": {},
     "output_type": "execute_result"
    }
   ],
   "source": [
    "n1"
   ]
  },
  {
   "cell_type": "markdown",
   "id": "5733767d",
   "metadata": {},
   "source": [
    "# Create 2d Array with all zeros using zeros method"
   ]
  },
  {
   "cell_type": "code",
   "execution_count": 15,
   "id": "32f72caf",
   "metadata": {},
   "outputs": [],
   "source": [
    "n2 = np.zeros((2,3))\n"
   ]
  },
  {
   "cell_type": "code",
   "execution_count": 16,
   "id": "a8924eb9",
   "metadata": {},
   "outputs": [
    {
     "data": {
      "text/plain": [
       "array([[0., 0., 0.],\n",
       "       [0., 0., 0.]])"
      ]
     },
     "execution_count": 16,
     "metadata": {},
     "output_type": "execute_result"
    }
   ],
   "source": [
    "n2"
   ]
  },
  {
   "cell_type": "code",
   "execution_count": 17,
   "id": "09ebbcfe",
   "metadata": {},
   "outputs": [],
   "source": [
    "n3 = np.zeros((10,10))"
   ]
  },
  {
   "cell_type": "code",
   "execution_count": 18,
   "id": "a203c146",
   "metadata": {
    "scrolled": true
   },
   "outputs": [
    {
     "data": {
      "text/plain": [
       "array([[0., 0., 0., 0., 0., 0., 0., 0., 0., 0.],\n",
       "       [0., 0., 0., 0., 0., 0., 0., 0., 0., 0.],\n",
       "       [0., 0., 0., 0., 0., 0., 0., 0., 0., 0.],\n",
       "       [0., 0., 0., 0., 0., 0., 0., 0., 0., 0.],\n",
       "       [0., 0., 0., 0., 0., 0., 0., 0., 0., 0.],\n",
       "       [0., 0., 0., 0., 0., 0., 0., 0., 0., 0.],\n",
       "       [0., 0., 0., 0., 0., 0., 0., 0., 0., 0.],\n",
       "       [0., 0., 0., 0., 0., 0., 0., 0., 0., 0.],\n",
       "       [0., 0., 0., 0., 0., 0., 0., 0., 0., 0.],\n",
       "       [0., 0., 0., 0., 0., 0., 0., 0., 0., 0.]])"
      ]
     },
     "execution_count": 18,
     "metadata": {},
     "output_type": "execute_result"
    }
   ],
   "source": [
    "n3"
   ]
  },
  {
   "cell_type": "markdown",
   "id": "c993da7d",
   "metadata": {},
   "source": [
    "# np.Full function for 2d array with specificvalue"
   ]
  },
  {
   "cell_type": "code",
   "execution_count": 19,
   "id": "86f12fa6",
   "metadata": {},
   "outputs": [],
   "source": [
    "n4 = np.full((3,3),10)"
   ]
  },
  {
   "cell_type": "code",
   "execution_count": 20,
   "id": "3c9b75ab",
   "metadata": {},
   "outputs": [
    {
     "data": {
      "text/plain": [
       "array([[10, 10, 10],\n",
       "       [10, 10, 10],\n",
       "       [10, 10, 10]])"
      ]
     },
     "execution_count": 20,
     "metadata": {},
     "output_type": "execute_result"
    }
   ],
   "source": [
    "n4\n"
   ]
  },
  {
   "cell_type": "code",
   "execution_count": null,
   "id": "7aa5fcaa",
   "metadata": {},
   "outputs": [],
   "source": []
  },
  {
   "cell_type": "markdown",
   "id": "2f618dba",
   "metadata": {},
   "source": [
    "# initialize numpy array within a range"
   ]
  },
  {
   "cell_type": "code",
   "execution_count": 21,
   "id": "4f90f08c",
   "metadata": {},
   "outputs": [],
   "source": [
    "n5 = np.arange(10,20)"
   ]
  },
  {
   "cell_type": "code",
   "execution_count": 22,
   "id": "f16ffb18",
   "metadata": {},
   "outputs": [
    {
     "data": {
      "text/plain": [
       "array([10, 11, 12, 13, 14, 15, 16, 17, 18, 19])"
      ]
     },
     "execution_count": 22,
     "metadata": {},
     "output_type": "execute_result"
    }
   ],
   "source": [
    "n5"
   ]
  },
  {
   "cell_type": "code",
   "execution_count": 23,
   "id": "bd89c2e8",
   "metadata": {},
   "outputs": [],
   "source": [
    "n6 = np.arange(10,20,2)"
   ]
  },
  {
   "cell_type": "code",
   "execution_count": 24,
   "id": "1dd38ac9",
   "metadata": {},
   "outputs": [
    {
     "data": {
      "text/plain": [
       "array([10, 12, 14, 16, 18])"
      ]
     },
     "execution_count": 24,
     "metadata": {},
     "output_type": "execute_result"
    }
   ],
   "source": [
    "n6"
   ]
  },
  {
   "cell_type": "markdown",
   "id": "4fa186f5",
   "metadata": {},
   "source": [
    "# initialize numpy array with random numbers "
   ]
  },
  {
   "cell_type": "code",
   "execution_count": 31,
   "id": "086d6442",
   "metadata": {},
   "outputs": [],
   "source": [
    "n7 = np.random.randint(1,100,5)"
   ]
  },
  {
   "cell_type": "code",
   "execution_count": 32,
   "id": "326e5c83",
   "metadata": {},
   "outputs": [
    {
     "data": {
      "text/plain": [
       "array([62, 27, 98, 51, 81])"
      ]
     },
     "execution_count": 32,
     "metadata": {},
     "output_type": "execute_result"
    }
   ],
   "source": [
    "n7"
   ]
  },
  {
   "cell_type": "markdown",
   "id": "cd004ac6",
   "metadata": {},
   "source": [
    "# know the shape of array"
   ]
  },
  {
   "cell_type": "code",
   "execution_count": 34,
   "id": "bc11c873",
   "metadata": {},
   "outputs": [
    {
     "data": {
      "text/plain": [
       "(5,)"
      ]
     },
     "execution_count": 34,
     "metadata": {},
     "output_type": "execute_result"
    }
   ],
   "source": [
    "n7.shape"
   ]
  },
  {
   "cell_type": "markdown",
   "id": "6e817b29",
   "metadata": {},
   "source": [
    "# join 2 arrays"
   ]
  },
  {
   "cell_type": "code",
   "execution_count": 46,
   "id": "07bc86d7",
   "metadata": {},
   "outputs": [],
   "source": [
    "n8 = np.array([1,2,3,4])"
   ]
  },
  {
   "cell_type": "code",
   "execution_count": 47,
   "id": "2dd8b684",
   "metadata": {},
   "outputs": [
    {
     "data": {
      "text/plain": [
       "array([1, 2, 3, 4])"
      ]
     },
     "execution_count": 47,
     "metadata": {},
     "output_type": "execute_result"
    }
   ],
   "source": [
    "n8"
   ]
  },
  {
   "cell_type": "code",
   "execution_count": 48,
   "id": "4a83a149",
   "metadata": {},
   "outputs": [],
   "source": [
    "n9 = np.array([4,5,6,7])"
   ]
  },
  {
   "cell_type": "code",
   "execution_count": 49,
   "id": "bad42acb",
   "metadata": {},
   "outputs": [
    {
     "data": {
      "text/plain": [
       "array([4, 5, 6, 7])"
      ]
     },
     "execution_count": 49,
     "metadata": {},
     "output_type": "execute_result"
    }
   ],
   "source": [
    "n9"
   ]
  },
  {
   "cell_type": "code",
   "execution_count": 50,
   "id": "518b211d",
   "metadata": {},
   "outputs": [
    {
     "data": {
      "text/plain": [
       "array([[1, 2, 3, 4],\n",
       "       [4, 5, 6, 7]])"
      ]
     },
     "execution_count": 50,
     "metadata": {},
     "output_type": "execute_result"
    }
   ],
   "source": [
    "#vstack means vertically stack 2 arrays\n",
    "np.vstack((n8,n9))"
   ]
  },
  {
   "cell_type": "code",
   "execution_count": 51,
   "id": "0be21c00",
   "metadata": {},
   "outputs": [
    {
     "data": {
      "text/plain": [
       "array([1, 2, 3, 4, 4, 5, 6, 7])"
      ]
     },
     "execution_count": 51,
     "metadata": {},
     "output_type": "execute_result"
    }
   ],
   "source": [
    "#hstack means horizontally stack 2 arrays\n",
    "np.hstack((n8,n9))"
   ]
  },
  {
   "cell_type": "code",
   "execution_count": 52,
   "id": "18341c8a",
   "metadata": {},
   "outputs": [
    {
     "data": {
      "text/plain": [
       "array([[1, 4],\n",
       "       [2, 5],\n",
       "       [3, 6],\n",
       "       [4, 7]])"
      ]
     },
     "execution_count": 52,
     "metadata": {},
     "output_type": "execute_result"
    }
   ],
   "source": [
    "#Column stack forjoin through columns \n",
    "np.column_stack((n8,n9))"
   ]
  },
  {
   "cell_type": "markdown",
   "id": "206f8bc5",
   "metadata": {},
   "source": [
    "# Intersection in Numpy Array"
   ]
  },
  {
   "cell_type": "code",
   "execution_count": 53,
   "id": "fcf77e83",
   "metadata": {},
   "outputs": [
    {
     "data": {
      "text/plain": [
       "array([4])"
      ]
     },
     "execution_count": 53,
     "metadata": {},
     "output_type": "execute_result"
    }
   ],
   "source": [
    "np.intersect1d(n8,n9)"
   ]
  },
  {
   "cell_type": "markdown",
   "id": "dc1fc221",
   "metadata": {},
   "source": [
    "#  check differenc in arrays"
   ]
  },
  {
   "cell_type": "code",
   "execution_count": 54,
   "id": "d31fcf31",
   "metadata": {},
   "outputs": [
    {
     "data": {
      "text/plain": [
       "array([5, 6, 7])"
      ]
     },
     "execution_count": 54,
     "metadata": {},
     "output_type": "execute_result"
    }
   ],
   "source": [
    "np.setdiff1d(n9,n8)"
   ]
  },
  {
   "cell_type": "code",
   "execution_count": 55,
   "id": "e463499b",
   "metadata": {},
   "outputs": [
    {
     "data": {
      "text/plain": [
       "array([1, 2, 3])"
      ]
     },
     "execution_count": 55,
     "metadata": {},
     "output_type": "execute_result"
    }
   ],
   "source": [
    "np.setdiff1d(n8,n9)"
   ]
  },
  {
   "cell_type": "markdown",
   "id": "eb4f2c5c",
   "metadata": {},
   "source": [
    "#  add two arrays"
   ]
  },
  {
   "cell_type": "code",
   "execution_count": 56,
   "id": "1ce321b5",
   "metadata": {},
   "outputs": [
    {
     "data": {
      "text/plain": [
       "32"
      ]
     },
     "execution_count": 56,
     "metadata": {},
     "output_type": "execute_result"
    }
   ],
   "source": [
    "np.sum([n8,n9])"
   ]
  },
  {
   "cell_type": "code",
   "execution_count": 57,
   "id": "31c61b49",
   "metadata": {},
   "outputs": [
    {
     "data": {
      "text/plain": [
       "array([ 5,  7,  9, 11])"
      ]
     },
     "execution_count": 57,
     "metadata": {},
     "output_type": "execute_result"
    }
   ],
   "source": [
    "#add by column with axis = 0\n",
    "np.sum([n8,n9],axis=0)"
   ]
  },
  {
   "cell_type": "code",
   "execution_count": 58,
   "id": "64fc1283",
   "metadata": {},
   "outputs": [
    {
     "data": {
      "text/plain": [
       "array([10, 22])"
      ]
     },
     "execution_count": 58,
     "metadata": {},
     "output_type": "execute_result"
    }
   ],
   "source": [
    "#by column\n",
    "np.sum([n8,n9],axis=1)"
   ]
  },
  {
   "cell_type": "markdown",
   "id": "5ca20a90",
   "metadata": {},
   "source": [
    "#  numpy array mathemetics\n"
   ]
  },
  {
   "cell_type": "code",
   "execution_count": 59,
   "id": "62de3ac3",
   "metadata": {},
   "outputs": [],
   "source": [
    "n10 = np.array([10,20,30])"
   ]
  },
  {
   "cell_type": "code",
   "execution_count": 60,
   "id": "84c48388",
   "metadata": {},
   "outputs": [
    {
     "data": {
      "text/plain": [
       "array([11, 21, 31])"
      ]
     },
     "execution_count": 60,
     "metadata": {},
     "output_type": "execute_result"
    }
   ],
   "source": [
    "n10+1"
   ]
  },
  {
   "cell_type": "code",
   "execution_count": 61,
   "id": "df649ebf",
   "metadata": {},
   "outputs": [
    {
     "data": {
      "text/plain": [
       "array([ 9, 19, 29])"
      ]
     },
     "execution_count": 61,
     "metadata": {},
     "output_type": "execute_result"
    }
   ],
   "source": [
    "n10-1"
   ]
  },
  {
   "cell_type": "code",
   "execution_count": 62,
   "id": "2574cfc8",
   "metadata": {},
   "outputs": [
    {
     "data": {
      "text/plain": [
       "array([100, 200, 300])"
      ]
     },
     "execution_count": 62,
     "metadata": {},
     "output_type": "execute_result"
    }
   ],
   "source": [
    "n10*10"
   ]
  },
  {
   "cell_type": "markdown",
   "id": "260164f3",
   "metadata": {},
   "source": [
    "#  Mean Median Standard deviation"
   ]
  },
  {
   "cell_type": "code",
   "execution_count": 63,
   "id": "3ebab38e",
   "metadata": {},
   "outputs": [
    {
     "data": {
      "text/plain": [
       "20.0"
      ]
     },
     "execution_count": 63,
     "metadata": {},
     "output_type": "execute_result"
    }
   ],
   "source": [
    "np.mean(n10)"
   ]
  },
  {
   "cell_type": "code",
   "execution_count": 64,
   "id": "52ef0964",
   "metadata": {},
   "outputs": [
    {
     "data": {
      "text/plain": [
       "20.0"
      ]
     },
     "execution_count": 64,
     "metadata": {},
     "output_type": "execute_result"
    }
   ],
   "source": [
    "np.median(n10)"
   ]
  },
  {
   "cell_type": "code",
   "execution_count": 65,
   "id": "5f96a1c2",
   "metadata": {},
   "outputs": [
    {
     "data": {
      "text/plain": [
       "8.16496580927726"
      ]
     },
     "execution_count": 65,
     "metadata": {},
     "output_type": "execute_result"
    }
   ],
   "source": [
    "np.std(n10)"
   ]
  },
  {
   "cell_type": "markdown",
   "id": "5aadd498",
   "metadata": {},
   "source": [
    "#  save and load numpy arrays"
   ]
  },
  {
   "cell_type": "code",
   "execution_count": 66,
   "id": "c43b7b51",
   "metadata": {},
   "outputs": [],
   "source": [
    "n = np.array([10,20,30,40,50])"
   ]
  },
  {
   "cell_type": "code",
   "execution_count": 67,
   "id": "6a2e4774",
   "metadata": {},
   "outputs": [],
   "source": [
    "np.save('array_n',n)"
   ]
  },
  {
   "cell_type": "code",
   "execution_count": 69,
   "id": "eda98e8b",
   "metadata": {},
   "outputs": [],
   "source": [
    "nn = np.load('array_n.npy')"
   ]
  },
  {
   "cell_type": "code",
   "execution_count": 70,
   "id": "ee4157a4",
   "metadata": {},
   "outputs": [
    {
     "data": {
      "text/plain": [
       "array([10, 20, 30, 40, 50])"
      ]
     },
     "execution_count": 70,
     "metadata": {},
     "output_type": "execute_result"
    }
   ],
   "source": [
    "nn"
   ]
  },
  {
   "cell_type": "code",
   "execution_count": null,
   "id": "79d680de",
   "metadata": {},
   "outputs": [],
   "source": []
  }
 ],
 "metadata": {
  "kernelspec": {
   "display_name": "Python 3 (ipykernel)",
   "language": "python",
   "name": "python3"
  },
  "language_info": {
   "codemirror_mode": {
    "name": "ipython",
    "version": 3
   },
   "file_extension": ".py",
   "mimetype": "text/x-python",
   "name": "python",
   "nbconvert_exporter": "python",
   "pygments_lexer": "ipython3",
   "version": "3.8.10"
  }
 },
 "nbformat": 4,
 "nbformat_minor": 5
}
